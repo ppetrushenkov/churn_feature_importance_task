{
 "cells": [
  {
   "cell_type": "markdown",
   "metadata": {},
   "source": [
    "# Load and split the data"
   ]
  },
  {
   "cell_type": "code",
   "execution_count": 1,
   "metadata": {},
   "outputs": [],
   "source": [
    "# Main imports\n",
    "import numpy as np\n",
    "import pandas as pd\n",
    "import matplotlib.pyplot as plt\n",
    "import seaborn as sns\n",
    "sns.set_style('darkgrid')\n",
    "\n",
    "# Model selections\n",
    "from sklearn.model_selection import train_test_split\n",
    "from sklearn.model_selection import RepeatedStratifiedKFold\n",
    "from sklearn.model_selection import RandomizedSearchCV\n",
    "\n",
    "# Generate new values\n",
    "from imblearn.over_sampling import SMOTE\n",
    "\n",
    "# Create Pipelines\n",
    "from sklearn.pipeline import Pipeline\n",
    "from imblearn.pipeline import Pipeline as IMBPipeline\n",
    "\n",
    "# Models\n",
    "from sklearn.linear_model import LogisticRegression\n",
    "from sklearn.naive_bayes import GaussianNB\n",
    "from sklearn.ensemble import HistGradientBoostingClassifier\n",
    "from sklearn.ensemble import VotingClassifier\n",
    "from sklearn.ensemble import StackingClassifier\n",
    "from sklearn.inspection import permutation_importance\n",
    "\n",
    "# Metrics\n",
    "from sklearn.metrics import roc_auc_score"
   ]
  },
  {
   "cell_type": "code",
   "execution_count": 2,
   "metadata": {},
   "outputs": [],
   "source": [
    "from utils import clean_and_prepare_data\n",
    "from utils import get_preprocessing_transformer"
   ]
  },
  {
   "cell_type": "code",
   "execution_count": 3,
   "metadata": {},
   "outputs": [],
   "source": [
    "data = pd.read_csv(\"data/WA_Fn-UseC_-Telco-Customer-Churn.csv\")\n",
    "X, y = clean_and_prepare_data(data)"
   ]
  },
  {
   "cell_type": "code",
   "execution_count": 4,
   "metadata": {},
   "outputs": [
    {
     "data": {
      "text/html": [
       "<div>\n",
       "<style scoped>\n",
       "    .dataframe tbody tr th:only-of-type {\n",
       "        vertical-align: middle;\n",
       "    }\n",
       "\n",
       "    .dataframe tbody tr th {\n",
       "        vertical-align: top;\n",
       "    }\n",
       "\n",
       "    .dataframe thead th {\n",
       "        text-align: right;\n",
       "    }\n",
       "</style>\n",
       "<table border=\"1\" class=\"dataframe\">\n",
       "  <thead>\n",
       "    <tr style=\"text-align: right;\">\n",
       "      <th></th>\n",
       "      <th>gender</th>\n",
       "      <th>SeniorCitizen</th>\n",
       "      <th>Partner</th>\n",
       "      <th>Dependents</th>\n",
       "      <th>tenure</th>\n",
       "      <th>PhoneService</th>\n",
       "      <th>MultipleLines</th>\n",
       "      <th>InternetService</th>\n",
       "      <th>OnlineSecurity</th>\n",
       "      <th>OnlineBackup</th>\n",
       "      <th>DeviceProtection</th>\n",
       "      <th>TechSupport</th>\n",
       "      <th>StreamingTV</th>\n",
       "      <th>StreamingMovies</th>\n",
       "      <th>Contract</th>\n",
       "      <th>PaperlessBilling</th>\n",
       "      <th>PaymentMethod</th>\n",
       "      <th>MonthlyCharges</th>\n",
       "      <th>TotalCharges</th>\n",
       "      <th>Churn</th>\n",
       "    </tr>\n",
       "  </thead>\n",
       "  <tbody>\n",
       "    <tr>\n",
       "      <th>1332</th>\n",
       "      <td>Male</td>\n",
       "      <td>No</td>\n",
       "      <td>No</td>\n",
       "      <td>No</td>\n",
       "      <td>69</td>\n",
       "      <td>Yes</td>\n",
       "      <td>Yes</td>\n",
       "      <td>No</td>\n",
       "      <td>No internet service</td>\n",
       "      <td>No internet service</td>\n",
       "      <td>No internet service</td>\n",
       "      <td>No internet service</td>\n",
       "      <td>No internet service</td>\n",
       "      <td>No internet service</td>\n",
       "      <td>Two year</td>\n",
       "      <td>No</td>\n",
       "      <td>Bank transfer (automatic)</td>\n",
       "      <td>23.95</td>\n",
       "      <td>1713.10</td>\n",
       "      <td>False</td>\n",
       "    </tr>\n",
       "    <tr>\n",
       "      <th>1720</th>\n",
       "      <td>Female</td>\n",
       "      <td>Yes</td>\n",
       "      <td>No</td>\n",
       "      <td>No</td>\n",
       "      <td>2</td>\n",
       "      <td>Yes</td>\n",
       "      <td>No</td>\n",
       "      <td>Fiber optic</td>\n",
       "      <td>No</td>\n",
       "      <td>Yes</td>\n",
       "      <td>No</td>\n",
       "      <td>No</td>\n",
       "      <td>Yes</td>\n",
       "      <td>No</td>\n",
       "      <td>Month-to-month</td>\n",
       "      <td>Yes</td>\n",
       "      <td>Bank transfer (automatic)</td>\n",
       "      <td>83.80</td>\n",
       "      <td>163.70</td>\n",
       "      <td>False</td>\n",
       "    </tr>\n",
       "    <tr>\n",
       "      <th>6182</th>\n",
       "      <td>Male</td>\n",
       "      <td>No</td>\n",
       "      <td>Yes</td>\n",
       "      <td>Yes</td>\n",
       "      <td>72</td>\n",
       "      <td>Yes</td>\n",
       "      <td>Yes</td>\n",
       "      <td>DSL</td>\n",
       "      <td>Yes</td>\n",
       "      <td>Yes</td>\n",
       "      <td>Yes</td>\n",
       "      <td>Yes</td>\n",
       "      <td>Yes</td>\n",
       "      <td>Yes</td>\n",
       "      <td>Two year</td>\n",
       "      <td>No</td>\n",
       "      <td>Credit card (automatic)</td>\n",
       "      <td>88.70</td>\n",
       "      <td>6501.35</td>\n",
       "      <td>False</td>\n",
       "    </tr>\n",
       "    <tr>\n",
       "      <th>4470</th>\n",
       "      <td>Male</td>\n",
       "      <td>No</td>\n",
       "      <td>No</td>\n",
       "      <td>No</td>\n",
       "      <td>7</td>\n",
       "      <td>Yes</td>\n",
       "      <td>No</td>\n",
       "      <td>DSL</td>\n",
       "      <td>No</td>\n",
       "      <td>No</td>\n",
       "      <td>No</td>\n",
       "      <td>No</td>\n",
       "      <td>No</td>\n",
       "      <td>No</td>\n",
       "      <td>Month-to-month</td>\n",
       "      <td>Yes</td>\n",
       "      <td>Bank transfer (automatic)</td>\n",
       "      <td>44.65</td>\n",
       "      <td>322.50</td>\n",
       "      <td>False</td>\n",
       "    </tr>\n",
       "    <tr>\n",
       "      <th>4007</th>\n",
       "      <td>Male</td>\n",
       "      <td>No</td>\n",
       "      <td>Yes</td>\n",
       "      <td>No</td>\n",
       "      <td>55</td>\n",
       "      <td>Yes</td>\n",
       "      <td>Yes</td>\n",
       "      <td>No</td>\n",
       "      <td>No internet service</td>\n",
       "      <td>No internet service</td>\n",
       "      <td>No internet service</td>\n",
       "      <td>No internet service</td>\n",
       "      <td>No internet service</td>\n",
       "      <td>No internet service</td>\n",
       "      <td>Two year</td>\n",
       "      <td>No</td>\n",
       "      <td>Bank transfer (automatic)</td>\n",
       "      <td>25.70</td>\n",
       "      <td>1443.65</td>\n",
       "      <td>False</td>\n",
       "    </tr>\n",
       "  </tbody>\n",
       "</table>\n",
       "</div>"
      ],
      "text/plain": [
       "      gender SeniorCitizen Partner Dependents  tenure PhoneService  \\\n",
       "1332    Male            No      No         No      69          Yes   \n",
       "1720  Female           Yes      No         No       2          Yes   \n",
       "6182    Male            No     Yes        Yes      72          Yes   \n",
       "4470    Male            No      No         No       7          Yes   \n",
       "4007    Male            No     Yes         No      55          Yes   \n",
       "\n",
       "     MultipleLines InternetService       OnlineSecurity         OnlineBackup  \\\n",
       "1332           Yes              No  No internet service  No internet service   \n",
       "1720            No     Fiber optic                   No                  Yes   \n",
       "6182           Yes             DSL                  Yes                  Yes   \n",
       "4470            No             DSL                   No                   No   \n",
       "4007           Yes              No  No internet service  No internet service   \n",
       "\n",
       "         DeviceProtection          TechSupport          StreamingTV  \\\n",
       "1332  No internet service  No internet service  No internet service   \n",
       "1720                   No                   No                  Yes   \n",
       "6182                  Yes                  Yes                  Yes   \n",
       "4470                   No                   No                   No   \n",
       "4007  No internet service  No internet service  No internet service   \n",
       "\n",
       "          StreamingMovies        Contract PaperlessBilling  \\\n",
       "1332  No internet service        Two year               No   \n",
       "1720                   No  Month-to-month              Yes   \n",
       "6182                  Yes        Two year               No   \n",
       "4470                   No  Month-to-month              Yes   \n",
       "4007  No internet service        Two year               No   \n",
       "\n",
       "                  PaymentMethod  MonthlyCharges  TotalCharges  Churn  \n",
       "1332  Bank transfer (automatic)           23.95       1713.10  False  \n",
       "1720  Bank transfer (automatic)           83.80        163.70  False  \n",
       "6182    Credit card (automatic)           88.70       6501.35  False  \n",
       "4470  Bank transfer (automatic)           44.65        322.50  False  \n",
       "4007  Bank transfer (automatic)           25.70       1443.65  False  "
      ]
     },
     "execution_count": 4,
     "metadata": {},
     "output_type": "execute_result"
    }
   ],
   "source": [
    "data.sample(5)"
   ]
  },
  {
   "cell_type": "code",
   "execution_count": 5,
   "metadata": {},
   "outputs": [],
   "source": [
    "from sklearn.model_selection import train_test_split\n",
    "X_train, X_val, y_train, y_val = train_test_split(X, y, test_size=.2, shuffle=True, random_state=1, stratify=y)"
   ]
  },
  {
   "cell_type": "code",
   "execution_count": 6,
   "metadata": {},
   "outputs": [
    {
     "data": {
      "image/png": "[encoded data removed]",
      "text/plain": [
       "<Figure size 640x480 with 1 Axes>"
      ]
     },
     "metadata": {},
     "output_type": "display_data"
    }
   ],
   "source": [
    "plt.title(\"Count plot of churned customers\")\n",
    "sns.countplot(x=data['Churn']);"
   ]
  },
  {
   "cell_type": "markdown",
   "metadata": {},
   "source": [
    "We can see, that our data is unbalanced. To handle this we'll use SMOTE method to make our data balanced"
   ]
  },
  {
   "cell_type": "markdown",
   "metadata": {},
   "source": [
    "# Preprocessing\n",
    "\n",
    "Steps:\n",
    "1. Impute missing values\n",
    "2. OneHot encode categorical values"
   ]
  },
  {
   "cell_type": "code",
   "execution_count": 7,
   "metadata": {},
   "outputs": [],
   "source": [
    "preprocessing = get_preprocessing_transformer()\n",
    "preprocessing.fit(X_train, y_train)\n",
    "features = pd.Series(preprocessing.get_feature_names_out())"
   ]
  },
  {
   "cell_type": "code",
   "execution_count": 8,
   "metadata": {},
   "outputs": [],
   "source": [
    "pipe = Pipeline([\n",
    "    # Preprocess features\n",
    "    ('preprocessing', preprocessing)\n",
    "])"
   ]
  },
  {
   "cell_type": "markdown",
   "metadata": {},
   "source": [
    "### Extract transformed and scaled features from the pipeline"
   ]
  },
  {
   "cell_type": "code",
   "execution_count": 9,
   "metadata": {},
   "outputs": [
    {
     "data": {
      "text/plain": [
       "0                           numerical_transform__tenure\n",
       "1                   numerical_transform__MonthlyCharges\n",
       "2                     numerical_transform__TotalCharges\n",
       "3                  categorical_transform__gender_Female\n",
       "4                    categorical_transform__gender_Male\n",
       "5               categorical_transform__SeniorCitizen_No\n",
       "6              categorical_transform__SeniorCitizen_Yes\n",
       "7                     categorical_transform__Partner_No\n",
       "8                    categorical_transform__Partner_Yes\n",
       "9                  categorical_transform__Dependents_No\n",
       "10                categorical_transform__Dependents_Yes\n",
       "11               categorical_transform__PhoneService_No\n",
       "12              categorical_transform__PhoneService_Yes\n",
       "13              categorical_transform__MultipleLines_No\n",
       "14    categorical_transform__MultipleLines_No phone ...\n",
       "15             categorical_transform__MultipleLines_Yes\n",
       "16           categorical_transform__InternetService_DSL\n",
       "17    categorical_transform__InternetService_Fiber o...\n",
       "18            categorical_transform__InternetService_No\n",
       "19             categorical_transform__OnlineSecurity_No\n",
       "20    categorical_transform__OnlineSecurity_No inter...\n",
       "21            categorical_transform__OnlineSecurity_Yes\n",
       "22               categorical_transform__OnlineBackup_No\n",
       "23    categorical_transform__OnlineBackup_No interne...\n",
       "24              categorical_transform__OnlineBackup_Yes\n",
       "25           categorical_transform__DeviceProtection_No\n",
       "26    categorical_transform__DeviceProtection_No int...\n",
       "27          categorical_transform__DeviceProtection_Yes\n",
       "28                categorical_transform__TechSupport_No\n",
       "29    categorical_transform__TechSupport_No internet...\n",
       "30               categorical_transform__TechSupport_Yes\n",
       "31                categorical_transform__StreamingTV_No\n",
       "32    categorical_transform__StreamingTV_No internet...\n",
       "33               categorical_transform__StreamingTV_Yes\n",
       "34            categorical_transform__StreamingMovies_No\n",
       "35    categorical_transform__StreamingMovies_No inte...\n",
       "36           categorical_transform__StreamingMovies_Yes\n",
       "37       categorical_transform__Contract_Month-to-month\n",
       "38             categorical_transform__Contract_One year\n",
       "39             categorical_transform__Contract_Two year\n",
       "40           categorical_transform__PaperlessBilling_No\n",
       "41          categorical_transform__PaperlessBilling_Yes\n",
       "42    categorical_transform__PaymentMethod_Bank tran...\n",
       "43    categorical_transform__PaymentMethod_Credit ca...\n",
       "44    categorical_transform__PaymentMethod_Electroni...\n",
       "45    categorical_transform__PaymentMethod_Mailed check\n",
       "dtype: object"
      ]
     },
     "execution_count": 9,
     "metadata": {},
     "output_type": "execute_result"
    }
   ],
   "source": [
    "pipe.fit(X_train, y_train)\n",
    "features = pd.Series(pipe.get_feature_names_out())\n",
    "features"
   ]
  },
  {
   "cell_type": "markdown",
   "metadata": {},
   "source": [
    "### Define models"
   ]
  },
  {
   "cell_type": "code",
   "execution_count": 10,
   "metadata": {},
   "outputs": [],
   "source": [
    "logreg = LogisticRegression(warm_start=True, max_iter=1000)\n",
    "booster = HistGradientBoostingClassifier()\n",
    "naive = GaussianNB()\n",
    "\n",
    "voter = VotingClassifier(estimators=[('logreg', logreg),\n",
    "                                     ('booster', booster),\n",
    "                                     ('naive', naive)],\n",
    "                        voting='soft', \n",
    "                        n_jobs=-1)\n",
    "\n",
    "stacker = StackingClassifier(estimators=[('logreg', logreg),\n",
    "                                     ('booster', booster),\n",
    "                                     ('naive', naive)],\n",
    "                        final_estimator=LogisticRegression(), \n",
    "                        n_jobs=-1)"
   ]
  },
  {
   "cell_type": "markdown",
   "metadata": {},
   "source": [
    "# Build pipeline using IMBlearn"
   ]
  },
  {
   "cell_type": "code",
   "execution_count": 22,
   "metadata": {},
   "outputs": [],
   "source": [
    "imbpipe = IMBPipeline([\n",
    "    # 1. Preprocess features\n",
    "    ('preprocessing', preprocessing),\n",
    "    # 2. Generate new data\n",
    "    ('smote', SMOTE()),\n",
    "    # 3. Use voter model\n",
    "    ('ensemble', voter)\n",
    "])\n",
    "# imbpipe = IMBPipeline([\n",
    "#     # 1. Preprocess features\n",
    "#     ('preprocessing', preprocessing),\n",
    "#     # 2. Generate new data\n",
    "#     ('smote', SMOTE()),\n",
    "#     # 3. Use voter model\n",
    "#     ('ensemble', stacker)\n",
    "# ])"
   ]
  },
  {
   "cell_type": "code",
   "execution_count": 23,
   "metadata": {},
   "outputs": [
    {
     "data": {
      "text/html": [
       "<style>#sk-container-id-3 {color: black;background-color: white;}#sk-container-id-3 pre{padding: 0;}#sk-container-id-3 div.sk-toggleable {background-color: white;}#sk-container-id-3 label.sk-toggleable__label {cursor: pointer;display: block;width: 100%;margin-bottom: 0;padding: 0.3em;box-sizing: border-box;text-align: center;}#sk-container-id-3 label.sk-toggleable__label-arrow:before {content: \"▸\";float: left;margin-right: 0.25em;color: #696969;}#sk-container-id-3 label.sk-toggleable__label-arrow:hover:before {color: black;}#sk-container-id-3 div.sk-estimator:hover label.sk-toggleable__label-arrow:before {color: black;}#sk-container-id-3 div.sk-toggleable__content {max-height: 0;max-width: 0;overflow: hidden;text-align: left;background-color: #f0f8ff;}#sk-container-id-3 div.sk-toggleable__content pre {margin: 0.2em;color: black;border-radius: 0.25em;background-color: #f0f8ff;}#sk-container-id-3 input.sk-toggleable__control:checked~div.sk-toggleable__content {max-height: 200px;max-width: 100%;overflow: auto;}#sk-container-id-3 input.sk-toggleable__control:checked~label.sk-toggleable__label-arrow:before {content: \"▾\";}#sk-container-id-3 div.sk-estimator input.sk-toggleable__control:checked~label.sk-toggleable__label {background-color: #d4ebff;}#sk-container-id-3 div.sk-label input.sk-toggleable__control:checked~label.sk-toggleable__label {background-color: #d4ebff;}#sk-container-id-3 input.sk-hidden--visually {border: 0;clip: rect(1px 1px 1px 1px);clip: rect(1px, 1px, 1px, 1px);height: 1px;margin: -1px;overflow: hidden;padding: 0;position: absolute;width: 1px;}#sk-container-id-3 div.sk-estimator {font-family: monospace;background-color: #f0f8ff;border: 1px dotted black;border-radius: 0.25em;box-sizing: border-box;margin-bottom: 0.5em;}#sk-container-id-3 div.sk-estimator:hover {background-color: #d4ebff;}#sk-container-id-3 div.sk-parallel-item::after {content: \"\";width: 100%;border-bottom: 1px solid gray;flex-grow: 1;}#sk-container-id-3 div.sk-label:hover label.sk-toggleable__label {background-color: #d4ebff;}#sk-container-id-3 div.sk-serial::before {content: \"\";position: absolute;border-left: 1px solid gray;box-sizing: border-box;top: 0;bottom: 0;left: 50%;z-index: 0;}#sk-container-id-3 div.sk-serial {display: flex;flex-direction: column;align-items: center;background-color: white;padding-right: 0.2em;padding-left: 0.2em;position: relative;}#sk-container-id-3 div.sk-item {position: relative;z-index: 1;}#sk-container-id-3 div.sk-parallel {display: flex;align-items: stretch;justify-content: center;background-color: white;position: relative;}#sk-container-id-3 div.sk-item::before, #sk-container-id-3 div.sk-parallel-item::before {content: \"\";position: absolute;border-left: 1px solid gray;box-sizing: border-box;top: 0;bottom: 0;left: 50%;z-index: -1;}#sk-container-id-3 div.sk-parallel-item {display: flex;flex-direction: column;z-index: 1;position: relative;background-color: white;}#sk-container-id-3 div.sk-parallel-item:first-child::after {align-self: flex-end;width: 50%;}#sk-container-id-3 div.sk-parallel-item:last-child::after {align-self: flex-start;width: 50%;}#sk-container-id-3 div.sk-parallel-item:only-child::after {width: 0;}#sk-container-id-3 div.sk-dashed-wrapped {border: 1px dashed gray;margin: 0 0.4em 0.5em 0.4em;box-sizing: border-box;padding-bottom: 0.4em;background-color: white;}#sk-container-id-3 div.sk-label label {font-family: monospace;font-weight: bold;display: inline-block;line-height: 1.2em;}#sk-container-id-3 div.sk-label-container {text-align: center;}#sk-container-id-3 div.sk-container {/* jupyter's `normalize.less` sets `[hidden] { display: none; }` but bootstrap.min.css set `[hidden] { display: none !important; }` so we also need the `!important` here to be able to override the default hidden behavior on the sphinx rendered scikit-learn.org. See: https://github.com/scikit-learn/scikit-learn/issues/21755 */display: inline-block !important;position: relative;}#sk-container-id-3 div.sk-text-repr-fallback {display: none;}</style><div id=\"sk-container-id-3\" class=\"sk-top-container\"><div class=\"sk-text-repr-fallback\"><pre>Pipeline(steps=[(&#x27;preprocessing&#x27;,\n",
       "                 ColumnTransformer(transformers=[(&#x27;numerical_transform&#x27;,\n",
       "                                                  Pipeline(steps=[(&#x27;simpleimputer&#x27;,\n",
       "                                                                   SimpleImputer()),\n",
       "                                                                  (&#x27;minmaxscaler&#x27;,\n",
       "                                                                   MinMaxScaler())]),\n",
       "                                                  &lt;sklearn.compose._column_transformer.make_column_selector object at 0x7f17998a35b0&gt;),\n",
       "                                                 (&#x27;categorical_transform&#x27;,\n",
       "                                                  Pipeline(steps=[(&#x27;simpleimputer&#x27;,\n",
       "                                                                   SimpleImputer(strategy=&#x27;most_frequent&#x27;...\n",
       "                                                                   OneHotEncoder(handle_unknown=&#x27;ignore&#x27;,\n",
       "                                                                                 sparse=False))]),\n",
       "                                                  &lt;sklearn.compose._column_transformer.make_column_selector object at 0x7f17998a3670&gt;)])),\n",
       "                (&#x27;smote&#x27;, SMOTE()),\n",
       "                (&#x27;ensemble&#x27;,\n",
       "                 VotingClassifier(estimators=[(&#x27;logreg&#x27;,\n",
       "                                               LogisticRegression(max_iter=1000,\n",
       "                                                                  warm_start=True)),\n",
       "                                              (&#x27;booster&#x27;,\n",
       "                                               HistGradientBoostingClassifier()),\n",
       "                                              (&#x27;naive&#x27;, GaussianNB())],\n",
       "                                  n_jobs=-1, voting=&#x27;soft&#x27;))])</pre><b>In a Jupyter environment, please rerun this cell to show the HTML representation or trust the notebook. <br />On GitHub, the HTML representation is unable to render, please try loading this page with nbviewer.org.</b></div><div class=\"sk-container\" hidden><div class=\"sk-item sk-dashed-wrapped\"><div class=\"sk-label-container\"><div class=\"sk-label sk-toggleable\"><input class=\"sk-toggleable__control sk-hidden--visually\" id=\"sk-estimator-id-29\" type=\"checkbox\" ><label for=\"sk-estimator-id-29\" class=\"sk-toggleable__label sk-toggleable__label-arrow\">Pipeline</label><div class=\"sk-toggleable__content\"><pre>Pipeline(steps=[(&#x27;preprocessing&#x27;,\n",
       "                 ColumnTransformer(transformers=[(&#x27;numerical_transform&#x27;,\n",
       "                                                  Pipeline(steps=[(&#x27;simpleimputer&#x27;,\n",
       "                                                                   SimpleImputer()),\n",
       "                                                                  (&#x27;minmaxscaler&#x27;,\n",
       "                                                                   MinMaxScaler())]),\n",
       "                                                  &lt;sklearn.compose._column_transformer.make_column_selector object at 0x7f17998a35b0&gt;),\n",
       "                                                 (&#x27;categorical_transform&#x27;,\n",
       "                                                  Pipeline(steps=[(&#x27;simpleimputer&#x27;,\n",
       "                                                                   SimpleImputer(strategy=&#x27;most_frequent&#x27;...\n",
       "                                                                   OneHotEncoder(handle_unknown=&#x27;ignore&#x27;,\n",
       "                                                                                 sparse=False))]),\n",
       "                                                  &lt;sklearn.compose._column_transformer.make_column_selector object at 0x7f17998a3670&gt;)])),\n",
       "                (&#x27;smote&#x27;, SMOTE()),\n",
       "                (&#x27;ensemble&#x27;,\n",
       "                 VotingClassifier(estimators=[(&#x27;logreg&#x27;,\n",
       "                                               LogisticRegression(max_iter=1000,\n",
       "                                                                  warm_start=True)),\n",
       "                                              (&#x27;booster&#x27;,\n",
       "                                               HistGradientBoostingClassifier()),\n",
       "                                              (&#x27;naive&#x27;, GaussianNB())],\n",
       "                                  n_jobs=-1, voting=&#x27;soft&#x27;))])</pre></div></div></div><div class=\"sk-serial\"><div class=\"sk-item sk-dashed-wrapped\"><div class=\"sk-label-container\"><div class=\"sk-label sk-toggleable\"><input class=\"sk-toggleable__control sk-hidden--visually\" id=\"sk-estimator-id-30\" type=\"checkbox\" ><label for=\"sk-estimator-id-30\" class=\"sk-toggleable__label sk-toggleable__label-arrow\">preprocessing: ColumnTransformer</label><div class=\"sk-toggleable__content\"><pre>ColumnTransformer(transformers=[(&#x27;numerical_transform&#x27;,\n",
       "                                 Pipeline(steps=[(&#x27;simpleimputer&#x27;,\n",
       "                                                  SimpleImputer()),\n",
       "                                                 (&#x27;minmaxscaler&#x27;,\n",
       "                                                  MinMaxScaler())]),\n",
       "                                 &lt;sklearn.compose._column_transformer.make_column_selector object at 0x7f17998a35b0&gt;),\n",
       "                                (&#x27;categorical_transform&#x27;,\n",
       "                                 Pipeline(steps=[(&#x27;simpleimputer&#x27;,\n",
       "                                                  SimpleImputer(strategy=&#x27;most_frequent&#x27;)),\n",
       "                                                 (&#x27;onehotencoder&#x27;,\n",
       "                                                  OneHotEncoder(handle_unknown=&#x27;ignore&#x27;,\n",
       "                                                                sparse=False))]),\n",
       "                                 &lt;sklearn.compose._column_transformer.make_column_selector object at 0x7f17998a3670&gt;)])</pre></div></div></div><div class=\"sk-parallel\"><div class=\"sk-parallel-item\"><div class=\"sk-item\"><div class=\"sk-label-container\"><div class=\"sk-label sk-toggleable\"><input class=\"sk-toggleable__control sk-hidden--visually\" id=\"sk-estimator-id-31\" type=\"checkbox\" ><label for=\"sk-estimator-id-31\" class=\"sk-toggleable__label sk-toggleable__label-arrow\">numerical_transform</label><div class=\"sk-toggleable__content\"><pre>&lt;sklearn.compose._column_transformer.make_column_selector object at 0x7f17998a35b0&gt;</pre></div></div></div><div class=\"sk-serial\"><div class=\"sk-item\"><div class=\"sk-serial\"><div class=\"sk-item\"><div class=\"sk-estimator sk-toggleable\"><input class=\"sk-toggleable__control sk-hidden--visually\" id=\"sk-estimator-id-32\" type=\"checkbox\" ><label for=\"sk-estimator-id-32\" class=\"sk-toggleable__label sk-toggleable__label-arrow\">SimpleImputer</label><div class=\"sk-toggleable__content\"><pre>SimpleImputer()</pre></div></div></div><div class=\"sk-item\"><div class=\"sk-estimator sk-toggleable\"><input class=\"sk-toggleable__control sk-hidden--visually\" id=\"sk-estimator-id-33\" type=\"checkbox\" ><label for=\"sk-estimator-id-33\" class=\"sk-toggleable__label sk-toggleable__label-arrow\">MinMaxScaler</label><div class=\"sk-toggleable__content\"><pre>MinMaxScaler()</pre></div></div></div></div></div></div></div></div><div class=\"sk-parallel-item\"><div class=\"sk-item\"><div class=\"sk-label-container\"><div class=\"sk-label sk-toggleable\"><input class=\"sk-toggleable__control sk-hidden--visually\" id=\"sk-estimator-id-34\" type=\"checkbox\" ><label for=\"sk-estimator-id-34\" class=\"sk-toggleable__label sk-toggleable__label-arrow\">categorical_transform</label><div class=\"sk-toggleable__content\"><pre>&lt;sklearn.compose._column_transformer.make_column_selector object at 0x7f17998a3670&gt;</pre></div></div></div><div class=\"sk-serial\"><div class=\"sk-item\"><div class=\"sk-serial\"><div class=\"sk-item\"><div class=\"sk-estimator sk-toggleable\"><input class=\"sk-toggleable__control sk-hidden--visually\" id=\"sk-estimator-id-35\" type=\"checkbox\" ><label for=\"sk-estimator-id-35\" class=\"sk-toggleable__label sk-toggleable__label-arrow\">SimpleImputer</label><div class=\"sk-toggleable__content\"><pre>SimpleImputer(strategy=&#x27;most_frequent&#x27;)</pre></div></div></div><div class=\"sk-item\"><div class=\"sk-estimator sk-toggleable\"><input class=\"sk-toggleable__control sk-hidden--visually\" id=\"sk-estimator-id-36\" type=\"checkbox\" ><label for=\"sk-estimator-id-36\" class=\"sk-toggleable__label sk-toggleable__label-arrow\">OneHotEncoder</label><div class=\"sk-toggleable__content\"><pre>OneHotEncoder(handle_unknown=&#x27;ignore&#x27;, sparse=False)</pre></div></div></div></div></div></div></div></div></div></div><div class=\"sk-item\"><div class=\"sk-estimator sk-toggleable\"><input class=\"sk-toggleable__control sk-hidden--visually\" id=\"sk-estimator-id-37\" type=\"checkbox\" ><label for=\"sk-estimator-id-37\" class=\"sk-toggleable__label sk-toggleable__label-arrow\">SMOTE</label><div class=\"sk-toggleable__content\"><pre>SMOTE()</pre></div></div></div><div class=\"sk-item sk-dashed-wrapped\"><div class=\"sk-label-container\"><div class=\"sk-label sk-toggleable\"><input class=\"sk-toggleable__control sk-hidden--visually\" id=\"sk-estimator-id-38\" type=\"checkbox\" ><label for=\"sk-estimator-id-38\" class=\"sk-toggleable__label sk-toggleable__label-arrow\">ensemble: VotingClassifier</label><div class=\"sk-toggleable__content\"><pre>VotingClassifier(estimators=[(&#x27;logreg&#x27;,\n",
       "                              LogisticRegression(max_iter=1000,\n",
       "                                                 warm_start=True)),\n",
       "                             (&#x27;booster&#x27;, HistGradientBoostingClassifier()),\n",
       "                             (&#x27;naive&#x27;, GaussianNB())],\n",
       "                 n_jobs=-1, voting=&#x27;soft&#x27;)</pre></div></div></div><div class=\"sk-parallel\"><div class=\"sk-parallel-item\"><div class=\"sk-item\"><div class=\"sk-label-container\"><div class=\"sk-label sk-toggleable\"><label>logreg</label></div></div><div class=\"sk-serial\"><div class=\"sk-item\"><div class=\"sk-estimator sk-toggleable\"><input class=\"sk-toggleable__control sk-hidden--visually\" id=\"sk-estimator-id-39\" type=\"checkbox\" ><label for=\"sk-estimator-id-39\" class=\"sk-toggleable__label sk-toggleable__label-arrow\">LogisticRegression</label><div class=\"sk-toggleable__content\"><pre>LogisticRegression(max_iter=1000, warm_start=True)</pre></div></div></div></div></div></div><div class=\"sk-parallel-item\"><div class=\"sk-item\"><div class=\"sk-label-container\"><div class=\"sk-label sk-toggleable\"><label>booster</label></div></div><div class=\"sk-serial\"><div class=\"sk-item\"><div class=\"sk-estimator sk-toggleable\"><input class=\"sk-toggleable__control sk-hidden--visually\" id=\"sk-estimator-id-40\" type=\"checkbox\" ><label for=\"sk-estimator-id-40\" class=\"sk-toggleable__label sk-toggleable__label-arrow\">HistGradientBoostingClassifier</label><div class=\"sk-toggleable__content\"><pre>HistGradientBoostingClassifier()</pre></div></div></div></div></div></div><div class=\"sk-parallel-item\"><div class=\"sk-item\"><div class=\"sk-label-container\"><div class=\"sk-label sk-toggleable\"><label>naive</label></div></div><div class=\"sk-serial\"><div class=\"sk-item\"><div class=\"sk-estimator sk-toggleable\"><input class=\"sk-toggleable__control sk-hidden--visually\" id=\"sk-estimator-id-41\" type=\"checkbox\" ><label for=\"sk-estimator-id-41\" class=\"sk-toggleable__label sk-toggleable__label-arrow\">GaussianNB</label><div class=\"sk-toggleable__content\"><pre>GaussianNB()</pre></div></div></div></div></div></div></div></div></div></div></div></div>"
      ],
      "text/plain": [
       "Pipeline(steps=[('preprocessing',\n",
       "                 ColumnTransformer(transformers=[('numerical_transform',\n",
       "                                                  Pipeline(steps=[('simpleimputer',\n",
       "                                                                   SimpleImputer()),\n",
       "                                                                  ('minmaxscaler',\n",
       "                                                                   MinMaxScaler())]),\n",
       "                                                  <sklearn.compose._column_transformer.make_column_selector object at 0x7f17998a35b0>),\n",
       "                                                 ('categorical_transform',\n",
       "                                                  Pipeline(steps=[('simpleimputer',\n",
       "                                                                   SimpleImputer(strategy='most_frequent'...\n",
       "                                                                   OneHotEncoder(handle_unknown='ignore',\n",
       "                                                                                 sparse=False))]),\n",
       "                                                  <sklearn.compose._column_transformer.make_column_selector object at 0x7f17998a3670>)])),\n",
       "                ('smote', SMOTE()),\n",
       "                ('ensemble',\n",
       "                 VotingClassifier(estimators=[('logreg',\n",
       "                                               LogisticRegression(max_iter=1000,\n",
       "                                                                  warm_start=True)),\n",
       "                                              ('booster',\n",
       "                                               HistGradientBoostingClassifier()),\n",
       "                                              ('naive', GaussianNB())],\n",
       "                                  n_jobs=-1, voting='soft'))])"
      ]
     },
     "execution_count": 23,
     "metadata": {},
     "output_type": "execute_result"
    }
   ],
   "source": [
    "imbpipe.fit(X_train, y_train)"
   ]
  },
  {
   "cell_type": "markdown",
   "metadata": {},
   "source": [
    "# Hyperparameter tuning"
   ]
  },
  {
   "cell_type": "code",
   "execution_count": 24,
   "metadata": {},
   "outputs": [
    {
     "name": "stdout",
     "output_type": "stream",
     "text": [
      "Fitting 50 folds for each of 10 candidates, totalling 500 fits\n"
     ]
    },
    {
     "name": "stderr",
     "output_type": "stream",
     "text": [
      "/home/statixx/anaconda3/envs/stats/lib/python3.9/site-packages/sklearn/model_selection/_validation.py:378: FitFailedWarning: \n",
      "250 fits failed out of a total of 500.\n",
      "The score on these train-test partitions for these parameters will be set to nan.\n",
      "If these failures are not expected, you can try to debug them by setting error_score='raise'.\n",
      "\n",
      "Below are more details about the failures:\n",
      "--------------------------------------------------------------------------------\n",
      "150 fits failed with the following error:\n",
      "Traceback (most recent call last):\n",
      "  File \"/home/statixx/anaconda3/envs/stats/lib/python3.9/site-packages/sklearn/model_selection/_validation.py\", line 686, in _fit_and_score\n",
      "    estimator.fit(X_train, y_train, **fit_params)\n",
      "  File \"/home/statixx/anaconda3/envs/stats/lib/python3.9/site-packages/imblearn/pipeline.py\", line 272, in fit\n",
      "    self._final_estimator.fit(Xt, yt, **fit_params_last_step)\n",
      "  File \"/home/statixx/anaconda3/envs/stats/lib/python3.9/site-packages/sklearn/ensemble/_voting.py\", line 351, in fit\n",
      "    return super().fit(X, transformed_y, sample_weight)\n",
      "  File \"/home/statixx/anaconda3/envs/stats/lib/python3.9/site-packages/sklearn/ensemble/_voting.py\", line 83, in fit\n",
      "    self.estimators_ = Parallel(n_jobs=self.n_jobs)(\n",
      "  File \"/home/statixx/anaconda3/envs/stats/lib/python3.9/site-packages/joblib/parallel.py\", line 1061, in __call__\n",
      "    self.retrieve()\n",
      "  File \"/home/statixx/anaconda3/envs/stats/lib/python3.9/site-packages/joblib/parallel.py\", line 938, in retrieve\n",
      "    self._output.extend(job.get(timeout=self.timeout))\n",
      "  File \"/home/statixx/anaconda3/envs/stats/lib/python3.9/multiprocessing/pool.py\", line 771, in get\n",
      "    raise self._value\n",
      "  File \"/home/statixx/anaconda3/envs/stats/lib/python3.9/multiprocessing/pool.py\", line 125, in worker\n",
      "    result = (True, func(*args, **kwds))\n",
      "  File \"/home/statixx/anaconda3/envs/stats/lib/python3.9/site-packages/joblib/_parallel_backends.py\", line 595, in __call__\n",
      "    return self.func(*args, **kwargs)\n",
      "  File \"/home/statixx/anaconda3/envs/stats/lib/python3.9/site-packages/joblib/parallel.py\", line 263, in __call__\n",
      "    return [func(*args, **kwargs)\n",
      "  File \"/home/statixx/anaconda3/envs/stats/lib/python3.9/site-packages/joblib/parallel.py\", line 263, in <listcomp>\n",
      "    return [func(*args, **kwargs)\n",
      "  File \"/home/statixx/anaconda3/envs/stats/lib/python3.9/site-packages/sklearn/utils/fixes.py\", line 117, in __call__\n",
      "    return self.function(*args, **kwargs)\n",
      "  File \"/home/statixx/anaconda3/envs/stats/lib/python3.9/site-packages/sklearn/ensemble/_base.py\", line 47, in _fit_single_estimator\n",
      "    estimator.fit(X, y)\n",
      "  File \"/home/statixx/anaconda3/envs/stats/lib/python3.9/site-packages/sklearn/linear_model/_logistic.py\", line 1091, in fit\n",
      "    solver = _check_solver(self.solver, self.penalty, self.dual)\n",
      "  File \"/home/statixx/anaconda3/envs/stats/lib/python3.9/site-packages/sklearn/linear_model/_logistic.py\", line 61, in _check_solver\n",
      "    raise ValueError(\n",
      "ValueError: Solver newton-cg supports only 'l2' or 'none' penalties, got l1 penalty.\n",
      "\n",
      "--------------------------------------------------------------------------------\n",
      "100 fits failed with the following error:\n",
      "Traceback (most recent call last):\n",
      "  File \"/home/statixx/anaconda3/envs/stats/lib/python3.9/site-packages/sklearn/model_selection/_validation.py\", line 686, in _fit_and_score\n",
      "    estimator.fit(X_train, y_train, **fit_params)\n",
      "  File \"/home/statixx/anaconda3/envs/stats/lib/python3.9/site-packages/imblearn/pipeline.py\", line 272, in fit\n",
      "    self._final_estimator.fit(Xt, yt, **fit_params_last_step)\n",
      "  File \"/home/statixx/anaconda3/envs/stats/lib/python3.9/site-packages/sklearn/ensemble/_voting.py\", line 351, in fit\n",
      "    return super().fit(X, transformed_y, sample_weight)\n",
      "  File \"/home/statixx/anaconda3/envs/stats/lib/python3.9/site-packages/sklearn/ensemble/_voting.py\", line 83, in fit\n",
      "    self.estimators_ = Parallel(n_jobs=self.n_jobs)(\n",
      "  File \"/home/statixx/anaconda3/envs/stats/lib/python3.9/site-packages/joblib/parallel.py\", line 1061, in __call__\n",
      "    self.retrieve()\n",
      "  File \"/home/statixx/anaconda3/envs/stats/lib/python3.9/site-packages/joblib/parallel.py\", line 938, in retrieve\n",
      "    self._output.extend(job.get(timeout=self.timeout))\n",
      "  File \"/home/statixx/anaconda3/envs/stats/lib/python3.9/multiprocessing/pool.py\", line 771, in get\n",
      "    raise self._value\n",
      "  File \"/home/statixx/anaconda3/envs/stats/lib/python3.9/multiprocessing/pool.py\", line 125, in worker\n",
      "    result = (True, func(*args, **kwds))\n",
      "  File \"/home/statixx/anaconda3/envs/stats/lib/python3.9/site-packages/joblib/_parallel_backends.py\", line 595, in __call__\n",
      "    return self.func(*args, **kwargs)\n",
      "  File \"/home/statixx/anaconda3/envs/stats/lib/python3.9/site-packages/joblib/parallel.py\", line 263, in __call__\n",
      "    return [func(*args, **kwargs)\n",
      "  File \"/home/statixx/anaconda3/envs/stats/lib/python3.9/site-packages/joblib/parallel.py\", line 263, in <listcomp>\n",
      "    return [func(*args, **kwargs)\n",
      "  File \"/home/statixx/anaconda3/envs/stats/lib/python3.9/site-packages/sklearn/utils/fixes.py\", line 117, in __call__\n",
      "    return self.function(*args, **kwargs)\n",
      "  File \"/home/statixx/anaconda3/envs/stats/lib/python3.9/site-packages/sklearn/ensemble/_base.py\", line 47, in _fit_single_estimator\n",
      "    estimator.fit(X, y)\n",
      "  File \"/home/statixx/anaconda3/envs/stats/lib/python3.9/site-packages/sklearn/linear_model/_logistic.py\", line 1091, in fit\n",
      "    solver = _check_solver(self.solver, self.penalty, self.dual)\n",
      "  File \"/home/statixx/anaconda3/envs/stats/lib/python3.9/site-packages/sklearn/linear_model/_logistic.py\", line 61, in _check_solver\n",
      "    raise ValueError(\n",
      "ValueError: Solver lbfgs supports only 'l2' or 'none' penalties, got l1 penalty.\n",
      "\n",
      "  warnings.warn(some_fits_failed_message, FitFailedWarning)\n",
      "/home/statixx/anaconda3/envs/stats/lib/python3.9/site-packages/sklearn/model_selection/_search.py:953: UserWarning: One or more of the test scores are non-finite: [       nan        nan        nan 0.84449973 0.82392534 0.84588273\n",
      " 0.83360533 0.84409623        nan        nan]\n",
      "  warnings.warn(\n"
     ]
    },
    {
     "name": "stdout",
     "output_type": "stream",
     "text": [
      "[INFO] Best Score:  0.8458827263148747\n",
      "[INFO] Best Parameters:  {'ensemble__logreg__solver': 'newton-cg', 'ensemble__logreg__penalty': 'l2', 'ensemble__logreg__C': 10, 'ensemble__booster__max_iter': 100, 'ensemble__booster__max_depth': 5, 'ensemble__booster__learning_rate': 0.1, 'ensemble__booster__l2_regularization': 0}\n",
      "[INFO] ROC-AUC score:  0.7440311038776514\n"
     ]
    }
   ],
   "source": [
    "params = {\n",
    "    'ensemble__logreg__solver': ['newton-cg', 'lbfgs'],\n",
    "    'ensemble__logreg__penalty': ['l1', 'l2'],\n",
    "    'ensemble__logreg__C': [1e-5, 1e-3, 10],\n",
    "    'ensemble__booster__learning_rate': [1e-5, 1e-3, 1e-1],\n",
    "    'ensemble__booster__max_iter': [100, 200],\n",
    "    'ensemble__booster__max_depth': [5, 10],\n",
    "    'ensemble__booster__l2_regularization': [0, 1]\n",
    "}\n",
    "\n",
    "rep_folds = RepeatedStratifiedKFold(random_state=42)\n",
    "\n",
    "random_search_model = RandomizedSearchCV(\n",
    "    estimator=imbpipe,\n",
    "    param_distributions=params,\n",
    "    scoring='roc_auc',\n",
    "    cv=rep_folds,\n",
    "    n_jobs=-1,\n",
    "    verbose=1\n",
    ")\n",
    "\n",
    "random_search_model.fit(X_train, y_train)\n",
    "\n",
    "print(\"[INFO] Best Score: \", random_search_model.best_score_)\n",
    "print(\"[INFO] Best Parameters: \", random_search_model.best_params_)\n",
    "print(\"[INFO] ROC-AUC score: \", roc_auc_score(y_val, random_search_model.predict(X_val)))"
   ]
  },
  {
   "cell_type": "code",
   "execution_count": 25,
   "metadata": {},
   "outputs": [],
   "source": [
    "def plot_feature_importance(results, features):\n",
    "    fig, ax = plt.subplots()\n",
    "    indices = results['importances_mean'].argsort()\n",
    "    \n",
    "    plt.barh(range(len(indices)),\n",
    "        results['importances_mean'][indices],\n",
    "        xerr=results['importances_std'][indices]\n",
    "        )\n",
    "\n",
    "    ax.set_yticks(range(len(indices)))\n",
    "    ax.set_title(\"Permutation importance\")\n",
    "\n",
    "    tmp = np.array(features)\n",
    "    _ = ax.set_yticklabels(tmp[indices])\n",
    "    return\n"
   ]
  },
  {
   "cell_type": "code",
   "execution_count": 26,
   "metadata": {},
   "outputs": [
    {
     "data": {
      "image/png": "[encoded data removed]",
      "text/plain": [
       "<Figure size 640x480 with 1 Axes>"
      ]
     },
     "metadata": {},
     "output_type": "display_data"
    }
   ],
   "source": [
    "crop_features = [\" \".join(str(feature).split(\"_\")[-2:]) for feature in features]\n",
    "\n",
    "importance_results = permutation_importance(random_search_model, X_train, y_train, random_state=42, n_jobs=-1)\n",
    "plot_feature_importance(importance_results, crop_features)"
   ]
  },
  {
   "cell_type": "markdown",
   "metadata": {},
   "source": [
    "### Metrics"
   ]
  },
  {
   "cell_type": "code",
   "execution_count": 27,
   "metadata": {},
   "outputs": [
    {
     "name": "stdout",
     "output_type": "stream",
     "text": [
      "[INFO] Precision is:  0.4852459016393443\n",
      "[INFO] F1-Score is:  0.6016260162601627\n"
     ]
    }
   ],
   "source": [
    "from sklearn.metrics import f1_score\n",
    "from sklearn.metrics import precision_score\n",
    "\n",
    "y_pred = random_search_model.predict(X_val)\n",
    "precision = precision_score(y_val, y_pred)\n",
    "f1score = f1_score(y_val, y_pred)\n",
    "\n",
    "print(\"[INFO] Precision is: \", precision)\n",
    "print(\"[INFO] F1-Score is: \", f1score)"
   ]
  },
  {
   "cell_type": "markdown",
   "metadata": {},
   "source": [
    "# Conclusions:"
   ]
  },
  {
   "cell_type": "markdown",
   "metadata": {},
   "source": [
    "As we can see, the most important features is: MultipleLines, Gender, Partner, InternetService and PhoneService. The other features not really much influence our data. So we can conclude, that the male customer, that doesn't use phone service, who's not a partner for us and who's not using Internet service in most cases will leave the company."
   ]
  },
  {
   "cell_type": "markdown",
   "metadata": {},
   "source": []
  }
 ],
 "metadata": {
  "kernelspec": {
   "display_name": "Python 3.9.13 ('stats')",
   "language": "python",
   "name": "python3"
  },
  "language_info": {
   "codemirror_mode": {
    "name": "ipython",
    "version": 3
   },
   "file_extension": ".py",
   "mimetype": "text/x-python",
   "name": "python",
   "nbconvert_exporter": "python",
   "pygments_lexer": "ipython3",
   "version": "3.9.15"
  },
  "orig_nbformat": 4,
  "vscode": {
   "interpreter": {
    "hash": "00c33013206503cb696b23588db18351330795426cf311d38f0b136c35946eb2"
   }
  }
 },
 "nbformat": 4,
 "nbformat_minor": 2
}
